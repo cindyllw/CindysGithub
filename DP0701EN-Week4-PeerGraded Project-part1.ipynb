{
 "cells": [
  {
   "cell_type": "markdown",
   "metadata": {},
   "source": [
    "# DP0701EN-Week4-PeerGraded Project - Part I"
   ]
  },
  {
   "cell_type": "markdown",
   "metadata": {},
   "source": [
    "Now that you have been equipped with the skills and the tools to use location data to explore a geographical location, over the course of two weeks, you will have the opportunity to be as creative as you want and come up with an idea to leverage the Foursquare location data to explore or compare neighborhoods or cities of your choice or to come up with a problem that you can use the Foursquare location data to solve. If you cannot think of an idea or a problem, here are some ideas to get you started:\n",
    "\n",
    "1. In Module 3, we explored New York City and the city of Toronto and segmented and clustered their neighborhoods. Both cities are very diverse and are the financial capitals of their respective countries. One interesting idea would be to compare the neighborhoods of the two cities and determine how similar or dissimilar they are. Is New York City more like Toronto or Paris or some other multicultural city? I will leave it to you to refine this idea.\n",
    "2. In a city of your choice, if someone is looking to open a restaurant, where would you recommend that they open it? Similarly, if a contractor is trying to start their own business, where would you recommend that they setup their office?\n",
    "\n",
    "These are just a couple of many ideas and problems that can be solved using location data in addition to other datasets. No matter what you decide to do, make sure to provide sufficient justification of why you think what you want to do or solve is important and why would a client or a group of people be interested in your project.Explore and cluster the neighborhoods in Toronto. You can decide to work with only boroughs that contain the word Toronto and then replicate the same analysis we did to the New York City data. It is up to you.\n",
    "\n",
    "Just make sure:\n",
    "\n",
    "1. to add enough Markdown cells to explain what you decided to do and to report any observations you make.\n",
    "2. to generate maps to visualize your neighborhoods and how they cluster together."
   ]
  },
  {
   "cell_type": "markdown",
   "metadata": {},
   "source": [
    "## Topic: \n",
    "\n",
    "## The Battle of Neighborhoods - Where should I open a sushi restaurant in Toronto?"
   ]
  },
  {
   "cell_type": "markdown",
   "metadata": {},
   "source": [
    "### Introduction"
   ]
  },
  {
   "cell_type": "markdown",
   "metadata": {},
   "source": [
    "For a city of enthusiastic eaters, it’s no surprise that food startups are emerging as one of Toronto’s most attractive areas for entrepreneurship.\n",
    "Toronto is a city where people form long lines for a taste of new restaurants. With a half of the city’s population born outside of Canada, the downtown core and attached neighbourhoods easily offer anything from pho and jerk chicken to ballotines and samosas.\n",
    "\n",
    "So Torontonians are always going to be interested in trying food from all over the world and Sushi is always among the Torontonians' favorite foods. In this report, I would like to explore the neighborhoods of the Toronto city and find out the potential best place to open a sushi restaurant."
   ]
  },
  {
   "cell_type": "markdown",
   "metadata": {},
   "source": [
    "### Data"
   ]
  },
  {
   "cell_type": "markdown",
   "metadata": {},
   "source": [
    "The data containing geolocations of sushi restaurants and neighborhoods will be collected from FourSquare. The location dataframe scraped from the online webpage consists of columns: \n",
    "* “PostalCode”, \n",
    "* “Borough”, \n",
    "* “Neighborhood”, \n",
    "* “Latitude”, \n",
    "* “Longitude”. \n",
    "\n",
    "The nearby-venue dataframe from FourSquare  consists of columns: \n",
    "* “Neighborhood”, \n",
    "* “Neighborhood Latitude”, \n",
    "* “Neighborhood Longitude”, \n",
    "* “Venue”,\n",
    "* “Venue Latitude”, \n",
    "* “Venue Longitude”,\n",
    "* “Venue Category”. \n",
    "\n",
    "After counting by \"Neighborhood\", we will be able to list the  top 5 most common venues in each neighborhood and the location of already existing sushi restaurants. In the end,  we can carry out an unsupervised machine learning technique  to determine the area of influence of the existing sushi restaurants, and find the possible optimal locations for our sushi start up."
   ]
  }
 ],
 "metadata": {
  "kernelspec": {
   "display_name": "Python",
   "language": "python",
   "name": "conda-env-python-py"
  },
  "language_info": {
   "codemirror_mode": {
    "name": "ipython",
    "version": 3
   },
   "file_extension": ".py",
   "mimetype": "text/x-python",
   "name": "python",
   "nbconvert_exporter": "python",
   "pygments_lexer": "ipython3",
   "version": "3.6.7"
  }
 },
 "nbformat": 4,
 "nbformat_minor": 4
}
