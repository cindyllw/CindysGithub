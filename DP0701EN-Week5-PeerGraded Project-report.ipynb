{
 "cells": [
  {
   "cell_type": "markdown",
   "metadata": {},
   "source": [
    "# DP0701EN-Week5-PeerGraded Project - Report"
   ]
  },
  {
   "cell_type": "markdown",
   "metadata": {},
   "source": [
    "In this week, you will continue working on your capstone project. Please remember by the end of this week, you will need to submit the following:\n",
    "\n",
    "1. A full report consisting of all of the following components (15 marks):\n",
    "* Introduction where you discuss the business problem and who would be interested in this project.\n",
    "* Data where you describe the data that will be used to solve the problem and the source of the data.\n",
    "* Methodology section which represents the main component of the report where you discuss and describe any exploratory data analysis that you did, any inferential statistical testing that you performed, if any, and what machine learnings were used and why.\n",
    "* Results section where you discuss the results.\n",
    "* Discussion section where you discuss any observations you noted and any recommendations you can make based on the results.\n",
    "* Conclusion section where you conclude the report.\n",
    "\n",
    "2. A link to your Notebook on your Github repository pushed showing your code. (15 marks)\n",
    "\n",
    "3. Your choice of a presentation or blogpost. (10 marks)"
   ]
  },
  {
   "cell_type": "markdown",
   "metadata": {},
   "source": [
    "## Topic: \n",
    "\n",
    "## The Battle of Neighborhoods - Where should I open a sushi restaurant in Toronto? - Part 2"
   ]
  },
  {
   "cell_type": "markdown",
   "metadata": {},
   "source": [
    "### Introduction"
   ]
  },
  {
   "cell_type": "markdown",
   "metadata": {},
   "source": [
    "For a city of enthusiastic eaters, it’s no surprise that food startups are emerging as one of Toronto’s most attractive areas for entrepreneurship.\n",
    "\n",
    "Toronto is a city where people form long lines for a taste of new restaurants. With a half of the city’s population born outside of Canada, the downtown core and attached neighbourhoods easily offer anything from pho and jerk chicken to ballotines and samosas.\n",
    "\n",
    "So Torontonians are always going to be interested in trying food from all over the world and Sushi is always among the Torontonians' favorite foods. In this report, I would like to explore the neighborhoods of the Toronto city and find out the potential best place to open a sushi restaurant."
   ]
  },
  {
   "cell_type": "markdown",
   "metadata": {},
   "source": [
    "### Data"
   ]
  },
  {
   "cell_type": "markdown",
   "metadata": {},
   "source": [
    "The data containing geolocations of sushi restaurants and neighborhoods will be collected from FourSquare. The location dataframe scraped from the online webpage consists of columns: \n",
    "* “PostalCode”, \n",
    "* “Borough”, \n",
    "* “Neighborhood”, \n",
    "* “Latitude”, \n",
    "* “Longitude”. \n",
    "\n",
    "The nearby-venue dataframe from FourSquare  consists of columns: \n",
    "* “Neighborhood”, \n",
    "* “Neighborhood Latitude”, \n",
    "* “Neighborhood Longitude”, \n",
    "* “Venue”,\n",
    "* “Venue Latitude”, \n",
    "* “Venue Longitude”,\n",
    "* “Venue Category”. \n",
    "\n",
    "After counting by \"Neighborhood\", we will be able to list the  top 5 most common venues in each neighborhood and the location of already existing sushi restaurants. In the end,  we can carry out an unsupervised machine learning technique  to determine the area of influence of the existing sushi restaurants, and find the possible optimal locations for our sushi start up."
   ]
  },
  {
   "cell_type": "markdown",
   "metadata": {},
   "source": [
    "**Examples of Data-1**"
   ]
  },
  {
   "cell_type": "markdown",
   "metadata": {},
   "source": [
    "|PostalCode|Borough|Neighborhood|Latitude|Longitude|\n",
    "|----------|-------|------------|--------|---------|\n",
    "|AAA|XXXXXXXX|XXXXXXX| 99.9999999|11.1111111|"
   ]
  },
  {
   "cell_type": "markdown",
   "metadata": {},
   "source": [
    "**Examples of Data-2**"
   ]
  },
  {
   "cell_type": "markdown",
   "metadata": {},
   "source": [
    "|Neighborhood|Neighborhood Latitude|Neighborhood Longitude|Venue|Venue Latitude|Venue Longitude|Venue Category|\n",
    "|------------|---------------------|----------------------|-----|--------------|---------------|--------------|\n",
    "|XXXXXXXX| 99.9999999|11.1111111|XXXXXXXXXXX|99.9999999|11.1111111|XXXXXXXX|"
   ]
  },
  {
   "cell_type": "markdown",
   "metadata": {},
   "source": [
    "### Methodology"
   ]
  },
  {
   "cell_type": "markdown",
   "metadata": {},
   "source": [
    "We will preprocess the data from FourSquare and get the dataframe we introduced in the part \"Data\" together with some visualization of the data. Then we use an unsupervised machine learning technique to find the solution, i.e potential  best neighborhood for our sushi start up."
   ]
  },
  {
   "cell_type": "markdown",
   "metadata": {},
   "source": [
    "**Step 0: get ready**"
   ]
  },
  {
   "cell_type": "markdown",
   "metadata": {},
   "source": [
    "**import libraries**"
   ]
  },
  {
   "cell_type": "code",
   "execution_count": null,
   "metadata": {},
   "outputs": [],
   "source": [
    "#!conda install -c conda-forge folium=0.5.0 --yes\n",
    "import numpy as np # library to handle data in a vectorized manner\n",
    "import pandas as pd # library for data analsysis\n",
    "pd.set_option('display.max_columns', None)\n",
    "pd.set_option('display.max_rows', None)\n",
    "\n",
    "import json # library to handle JSON files\n",
    "\n",
    "#!conda install -c conda-forge geopy --yes \n",
    "from geopy.geocoders import Nominatim # convert an address into latitude and longitude values\n",
    "\n",
    "import requests # library to handle requests\n",
    "from pandas.io.json import json_normalize # tranform JSON file into a pandas dataframe\n",
    "\n",
    "#Matplotlib and associated plotting modules\n",
    "import matplotlib as mpl\n",
    "import matplotlib.pyplot as plt\n",
    "import matplotlib.cm as cm\n",
    "import matplotlib.colors as colors\n",
    "\n",
    "#import k-means from clustering stage\n",
    "from sklearn.cluster import KMeans\n",
    "\n",
    "#!conda install -c conda-forge folium=0.5.0 --yes b\n",
    "import folium # map rendering library\n",
    "from folium import plugins\n",
    "\n",
    "print('Libraries imported.')"
   ]
  },
  {
   "cell_type": "markdown",
   "metadata": {},
   "source": [
    "**FourSquare ID and Credential**"
   ]
  },
  {
   "cell_type": "code",
   "execution_count": null,
   "metadata": {},
   "outputs": [],
   "source": [
    "CLIENT_ID = 'FDGPCM2RQRFB025MFXJVNTGPWASHXNOHERNUFARTZGK5IMFB' # your Foursquare ID\n",
    "CLIENT_SECRET = 'JGNW3512LLQVHL1GDKTA2O5WUCKQV2DNW1I3FGCT1KQPUZ0T' # your Foursquare Secret\n",
    "VERSION = '20180605' # Foursquare API version"
   ]
  },
  {
   "cell_type": "markdown",
   "metadata": {},
   "source": [
    "**define functions to be used later**"
   ]
  },
  {
   "cell_type": "code",
   "execution_count": null,
   "metadata": {},
   "outputs": [],
   "source": [
    "def return_most_common_venues(row, num_top_venues):\n",
    "    row_categories = row.iloc[1:]\n",
    "    row_categories_sorted = row_categories.sort_values(ascending=False)\n",
    "    \n",
    "    return row_categories_sorted.index.values[0:num_top_venues]"
   ]
  },
  {
   "cell_type": "code",
   "execution_count": null,
   "metadata": {},
   "outputs": [],
   "source": [
    "def get_category_type(row):\n",
    "    try:\n",
    "        categories_list = row['categories']\n",
    "    except:\n",
    "        categories_list = row['venue.categories']\n",
    "        \n",
    "    if len(categories_list) == 0:\n",
    "        return None\n",
    "    else:\n",
    "        return categories_list[0]['name']"
   ]
  },
  {
   "cell_type": "code",
   "execution_count": null,
   "metadata": {},
   "outputs": [],
   "source": [
    "def getNearbyVenues(names, latitudes, longitudes, radius=500):\n",
    "    \n",
    "    venues_list=[]\n",
    "    for name, lat, lng in zip(names, latitudes, longitudes):\n",
    "        print(name)\n",
    "            \n",
    "        # create the API request URL\n",
    "        url = 'https://api.foursquare.com/v2/venues/explore?&client_id={}&client_secret={}&v={}&ll={},{}&radius={}&limit={}'.format(\n",
    "            CLIENT_ID, \n",
    "            CLIENT_SECRET, \n",
    "            VERSION, \n",
    "            lat, \n",
    "            lng, \n",
    "            radius, \n",
    "            LIMIT)\n",
    "            \n",
    "        # make the GET request\n",
    "        results = requests.get(url).json()[\"response\"]['groups'][0]['items']\n",
    "        \n",
    "        # return only relevant information for each nearby venue\n",
    "        venues_list.append([(\n",
    "            name, \n",
    "            lat, \n",
    "            lng, \n",
    "            v['venue']['name'], \n",
    "            v['venue']['location']['lat'], \n",
    "            v['venue']['location']['lng'],  \n",
    "            v['venue']['categories'][0]['name']) for v in results])\n",
    "\n",
    "    nearby_venues = pd.DataFrame([item for venue_list in venues_list for item in venue_list])\n",
    "    nearby_venues.columns = ['Neighborhood', \n",
    "                  'Neighborhood Latitude', \n",
    "                  'Neighborhood Longitude', \n",
    "                  'Venue', \n",
    "                  'Venue Latitude', \n",
    "                  'Venue Longitude', \n",
    "                  'Venue Category']\n",
    "    \n",
    "    return(nearby_venues)"
   ]
  },
  {
   "cell_type": "code",
   "execution_count": null,
   "metadata": {},
   "outputs": [],
   "source": [
    "def add_markers(df, maptoadd):\n",
    "    for (j, row) in df.iterrows():\n",
    "        label = folium.Popup(row[\"Name\"], parse_html = True)\n",
    "        folium.CircleMarker(\n",
    "            [row[\"Latitude\"], row[\"Longitude\"]],\n",
    "            radius = 5,\n",
    "            popup = label,\n",
    "            color = 'red',\n",
    "            fill = True,\n",
    "            fill_color = '#3186cc',\n",
    "            fill_opacity = 0.7,\n",
    "            parse_html = False).add_to(maptoadd)"
   ]
  },
  {
   "cell_type": "markdown",
   "metadata": {},
   "source": [
    "**Step 1: Prepare the dataframe**"
   ]
  },
  {
   "cell_type": "markdown",
   "metadata": {},
   "source": [
    "**Step 1.1: import data with neighborhood latitude and longitude**"
   ]
  },
  {
   "cell_type": "code",
   "execution_count": null,
   "metadata": {},
   "outputs": [],
   "source": [
    "df = pd.read_csv(\"Week3project.csv\")\n",
    "Toronto = df[df['Borough'].str.contains(\"Toronto\")]\n",
    "Toronto.reset_index(inplace = True)\n",
    "Toronto.drop(['index', 'Unnamed: 0'],axis = 1, inplace = True)\n",
    "Toronto.head()"
   ]
  },
  {
   "cell_type": "markdown",
   "metadata": {},
   "source": [
    "**Step 1.2: get coordinates** "
   ]
  },
  {
   "cell_type": "code",
   "execution_count": null,
   "metadata": {},
   "outputs": [],
   "source": [
    "address = 'Toronto'\n",
    "geolocator = Nominatim()\n",
    "location = geolocator.geocode(address)\n",
    "latitude = location.latitude\n",
    "longitude = location.longitude\n",
    "print('The geograpical coordinate of Toronto are {}, {}.'.format(latitude,longitude))"
   ]
  },
  {
   "cell_type": "markdown",
   "metadata": {},
   "source": [
    "**Step 1.3: visualization of neighborhoods** "
   ]
  },
  {
   "cell_type": "code",
   "execution_count": null,
   "metadata": {},
   "outputs": [],
   "source": [
    "map_trt = folium.Map(location=[latitude, longitude], zoom_start=11)\n",
    "\n",
    "for lat, lng, label in zip(Toronto['Latitude'], Toronto['Longitude'], Toronto['Neighborhood']):\n",
    "    label = folium.Popup(label, parse_html = True)\n",
    "    folium.CircleMarker(\n",
    "        [lat, lng],\n",
    "        radius = 5,\n",
    "        popup = label,\n",
    "        color = 'blue',\n",
    "        fill = True,\n",
    "        fill_color = '#3186cc',\n",
    "        fill_opacity = 0.7,\n",
    "        parse_html = False).add_to(map_trt)  \n",
    "    \n",
    "map_trt"
   ]
  },
  {
   "cell_type": "markdown",
   "metadata": {},
   "source": [
    "**Step 1.4: get the top 500 venues that are in Toronto within a radius of 1000 meters**"
   ]
  },
  {
   "cell_type": "code",
   "execution_count": null,
   "metadata": {},
   "outputs": [],
   "source": [
    "LIMIT = 500 # limit of number of venues returned by Foursquare API\n",
    "\n",
    "radius = 1000 # define radius\n",
    "\n",
    "# create URL\n",
    "url = 'https://api.foursquare.com/v2/venues/explore?&client_id={}&client_secret={}&v={}&ll={},{}&radius={}&limit={}'.format(\n",
    "    CLIENT_ID, \n",
    "    CLIENT_SECRET, \n",
    "    VERSION, \n",
    "    latitude, \n",
    "    longitude, \n",
    "    radius, \n",
    "    LIMIT)"
   ]
  },
  {
   "cell_type": "code",
   "execution_count": null,
   "metadata": {},
   "outputs": [],
   "source": [
    "results = requests.get(url).json()"
   ]
  },
  {
   "cell_type": "markdown",
   "metadata": {},
   "source": [
    "**Step 1.5: get information of nearby venues**"
   ]
  },
  {
   "cell_type": "code",
   "execution_count": null,
   "metadata": {},
   "outputs": [],
   "source": [
    "venues = results['response']['groups'][0]['items']\n",
    "nearby_venues = json_normalize(venues) # flatten JSON\n",
    "\n",
    "# filter columns\n",
    "filtered_columns = ['venue.name', 'venue.categories', 'venue.location.lat', 'venue.location.lng']\n",
    "nearby_venues = nearby_venues.loc[:, filtered_columns]\n",
    "\n",
    "# filter the category for each row\n",
    "nearby_venues['venue.categories'] = nearby_venues.apply(get_category_type, axis = 1)\n",
    "\n",
    "# clean columns\n",
    "nearby_venues.columns = [col.split(\".\")[-1] for col in nearby_venues.columns]\n",
    "\n",
    "nearby_venues.head()"
   ]
  },
  {
   "cell_type": "code",
   "execution_count": null,
   "metadata": {},
   "outputs": [],
   "source": [
    "venues_trt = getNearbyVenues(names = Toronto['Neighborhood'],\n",
    "                                     latitudes = Toronto['Latitude'],\n",
    "                                     longitudes = Toronto['Longitude'])"
   ]
  },
  {
   "cell_type": "markdown",
   "metadata": {},
   "source": [
    "**Step 2: Analyze Each Neighborhood**"
   ]
  },
  {
   "cell_type": "markdown",
   "metadata": {},
   "source": [
    "**Step 2.1: prepare the dataframe**"
   ]
  },
  {
   "cell_type": "code",
   "execution_count": null,
   "metadata": {},
   "outputs": [],
   "source": [
    "# one hot encoding\n",
    "trt_onehot = pd.get_dummies(venues_trt[['Venue Category']], prefix = \"\", prefix_sep = \"\")\n",
    "trt_onehot['Neighborhood'] = venues_trt['Neighborhood'] \n",
    "fixed_columns = [trt_onehot.columns[-1]] + list(trt_onehot.columns[:-1])\n",
    "trt_onehot = trt_onehot[fixed_columns]\n",
    "trt_grouped = trt_onehot.groupby('Neighborhood').mean().reset_index()"
   ]
  },
  {
   "cell_type": "markdown",
   "metadata": {},
   "source": [
    "**Step 2.1: print each neighborhood along with the top 10 most common venues**"
   ]
  },
  {
   "cell_type": "code",
   "execution_count": null,
   "metadata": {},
   "outputs": [],
   "source": [
    "num_top_venues = 10\n",
    "\n",
    "for hood in trt_grouped['Neighborhood']:\n",
    "    print(\"----\" + hood + \"----\")\n",
    "    temp = trt_grouped[trt_grouped['Neighborhood'] == hood].T.reset_index()\n",
    "    temp.columns = ['venue','freq']\n",
    "    temp = temp.iloc[1:]\n",
    "    temp['freq'] = temp['freq'].astype(float)\n",
    "    temp = temp.round({'freq': 2})\n",
    "    print(temp.sort_values('freq', ascending = False).reset_index(drop = True).head(num_top_venues))\n",
    "    print('\\n')"
   ]
  },
  {
   "cell_type": "markdown",
   "metadata": {},
   "source": [
    "**Step 2.2: put the info in last step into a dataframe**"
   ]
  },
  {
   "cell_type": "code",
   "execution_count": null,
   "metadata": {},
   "outputs": [],
   "source": [
    "num_top_venues = 10\n",
    "\n",
    "indicators = ['st', 'nd', 'rd']\n",
    "\n",
    "# create columns according to number of top venues\n",
    "columns = ['Neighborhood']\n",
    "for ind in np.arange(num_top_venues):\n",
    "    try:\n",
    "        columns.append('{}{} Most Common Venue'.format(ind + 1, indicators[ind]))\n",
    "    except:\n",
    "        columns.append('{}th Most Common Venue'.format(ind + 1))\n",
    "\n",
    "# create a new dataframe\n",
    "neighborhoods_venues_sorted = pd.DataFrame(columns = columns)\n",
    "neighborhoods_venues_sorted['Neighborhood'] = trt_grouped['Neighborhood']\n",
    "\n",
    "for ind in np.arange(trt_grouped.shape[0]):\n",
    "    neighborhoods_venues_sorted.iloc[ind, 1:] = return_most_common_venues(trt_grouped.iloc[ind, :], num_top_venues)\n",
    "\n",
    "neighborhoods_venues_sorted.head()"
   ]
  },
  {
   "cell_type": "markdown",
   "metadata": {},
   "source": [
    "**Step 2.3: visualize the most common venues**"
   ]
  },
  {
   "cell_type": "code",
   "execution_count": null,
   "metadata": {},
   "outputs": [],
   "source": [
    "FirstVenue = pd.DataFrame(neighborhoods_venues_sorted[\"1st Most Common Venue\"].value_counts())\n",
    "SecondVenue = pd.DataFrame(neighborhoods_venues_sorted[\"2nd Most Common Venue\"].value_counts())\n",
    "ThirdVenue = pd.DataFrame(neighborhoods_venues_sorted[\"3rd Most Common Venue\"].value_counts())\n",
    "FourthVenue = pd.DataFrame(neighborhoods_venues_sorted[\"4th Most Common Venue\"].value_counts())\n",
    "FifthVenue = pd.DataFrame(neighborhoods_venues_sorted[\"5th Most Common Venue\"].value_counts())"
   ]
  },
  {
   "cell_type": "code",
   "execution_count": null,
   "metadata": {},
   "outputs": [],
   "source": [
    "FirstVenue.plot(kind = \"barh\", figsize = (8,5))\n",
    "plt.title(\"Histogram of the 1st Most Common Venue in Toronto Neighborhoods\")\n",
    "plt.xlabel(\"Number\")\n",
    "plt.ylabel(\"Type\")\n",
    "plt.show()"
   ]
  },
  {
   "cell_type": "code",
   "execution_count": null,
   "metadata": {},
   "outputs": [],
   "source": [
    "SecondVenue.plot(kind = \"barh\", figsize = (8,5))\n",
    "plt.title(\"Histogram of the 2nd Most Common Venue in Toronto Neighborhoods\")\n",
    "plt.xlabel(\"Number\")\n",
    "plt.ylabel(\"Type\")\n",
    "plt.show()"
   ]
  },
  {
   "cell_type": "code",
   "execution_count": null,
   "metadata": {},
   "outputs": [],
   "source": [
    "ThirdVenue.plot(kind = \"barh\", figsize = (8,5))\n",
    "plt.title(\"Histogram of the 3rd Most Common Venue in Toronto Neighborhoods\")\n",
    "plt.xlabel(\"Number\")\n",
    "plt.ylabel(\"Type\")\n",
    "plt.show()"
   ]
  },
  {
   "cell_type": "code",
   "execution_count": null,
   "metadata": {},
   "outputs": [],
   "source": [
    "FourthVenue.plot(kind = \"barh\", figsize = (8,5))\n",
    "plt.title(\"Histogram of the 4th Most Common Venue in Toronto Neighborhoods\")\n",
    "plt.xlabel(\"Number\")\n",
    "plt.ylabel(\"Type\")\n",
    "plt.show()"
   ]
  },
  {
   "cell_type": "code",
   "execution_count": null,
   "metadata": {},
   "outputs": [],
   "source": [
    "FifthVenue.plot(kind = \"barh\", figsize = (8,5))\n",
    "plt.title(\"Histogram of the 5th Most Common Venue in Toronto Neighborhoods\")\n",
    "plt.xlabel(\"Number\")\n",
    "plt.ylabel(\"Type\")\n",
    "plt.show()"
   ]
  },
  {
   "cell_type": "code",
   "execution_count": null,
   "metadata": {},
   "outputs": [],
   "source": [
    "commonvenue = pd.merge(FirstVenue, SecondVenue, how = \"outer\", on = None, left_index = True, right_index = True)\n",
    "commonvenue = pd.merge(commonvenue, ThirdVenue, how = \"outer\", on = None, left_index = True, right_index = True)\n",
    "commonvenue = pd.merge(commonvenue, FourthVenue, how = \"outer\", on = None, left_index = True, right_index = True)\n",
    "commonvenue = pd.merge(commonvenue, FifthVenue, how = \"outer\", on = None, left_index = True, right_index = True)\n",
    "\n",
    "commonvenue.plot(kind = \"bar\", figsize = (20,8))\n",
    "plt.title(\"Histogram of the 1st-5th Most Common Venue in Toronto Neighborhoods\")\n",
    "plt.xlabel(\"Number\")\n",
    "plt.ylabel(\"Type\")\n",
    "plt.show()"
   ]
  },
  {
   "cell_type": "code",
   "execution_count": null,
   "metadata": {},
   "outputs": [],
   "source": [
    "commonvenue.loc[\"Sushi Restaurant\",].plot(kind = \"bar\", figsize = (10,5))\n",
    "plt.title(\"Details of the Popularity of the Sushi Resaurant in Toronto Neighborhoods\")\n",
    "plt.ylabel(\"Number\")\n",
    "plt.show()"
   ]
  },
  {
   "cell_type": "markdown",
   "metadata": {},
   "source": [
    "**Step 3: Find the best place for a sushi restaurant**"
   ]
  },
  {
   "cell_type": "markdown",
   "metadata": {},
   "source": [
    "**Step 3.1: extract the sushi-related restaurants**"
   ]
  },
  {
   "cell_type": "code",
   "execution_count": null,
   "metadata": {},
   "outputs": [],
   "source": [
    "sushi = []\n",
    "for venue in venues:\n",
    "    venuename = venue[\"venue\"]\n",
    "    categories = venue[\"venue\"][\"categories\"]\n",
    "    name = venue[\"venue\"][\"name\"]\n",
    "    location = venue[\"venue\"][\"location\"]\n",
    "    pluralname = categories[0][\"pluralName\"]\n",
    "    address = location[\"formattedAddress\"]\n",
    "    lat = location[\"lat\"]\n",
    "    lng = location[\"lng\"]\n",
    "    \n",
    "    if (\"sushi\" in pluralname.lower()) or (\"japan\" in pluralname.lower()) \\\n",
    "    or (\"asia\" in pluralname.lower())  or (\"ramen\" in pluralname.lower()):\n",
    "        row = (name, address, lat, lng)\n",
    "        sushi.append(row)\n",
    "\n",
    "sushi = pd.DataFrame(sushi, columns=[\"Name\", \"Address\", \"Latitude\", \"Longitude\"])\n",
    "sushi"
   ]
  },
  {
   "cell_type": "markdown",
   "metadata": {},
   "source": [
    "**Step 3.2: heatmap of the most common sushi-related restaurants**"
   ]
  },
  {
   "cell_type": "code",
   "execution_count": null,
   "metadata": {},
   "outputs": [],
   "source": [
    "address = 'Toronto'\n",
    "geolocator = Nominatim()\n",
    "location = geolocator.geocode(address)\n",
    "latitude = location.latitude\n",
    "longitude = location.longitude\n",
    "\n",
    "map_trt = folium.Map(location=[latitude, longitude], zoom_start = 15)\n",
    "\n",
    "add_markers(sushi, map_trt)\n",
    "heat = sushi[[\"Latitude\", \"Longitude\"]].as_matrix().tolist()\n",
    "map_trt.add_child(plugins.HeatMap(heat))\n",
    "\n",
    "map_trt"
   ]
  },
  {
   "cell_type": "markdown",
   "metadata": {},
   "source": [
    "**Step 3.3: get the result of the potential best location**"
   ]
  },
  {
   "cell_type": "code",
   "execution_count": null,
   "metadata": {},
   "outputs": [],
   "source": [
    "ourbest_lat = sushi[\"Latitude\"].mean()\n",
    "ourbest_lng = sushi[\"Longitude\"].mean()"
   ]
  },
  {
   "cell_type": "code",
   "execution_count": null,
   "metadata": {},
   "outputs": [],
   "source": [
    "folium.CircleMarker(\n",
    "    [ourbest_lat, ourbest_lng],\n",
    "    radius = 8,\n",
    "    popup = \"Our Best Location\",\n",
    "    color = 'red',\n",
    "    fill = True,\n",
    "    fill_color = '#FF0000',\n",
    "    fill_opacity = 0.7,\n",
    "    parse_html = False).add_to(map_trt)\n",
    "\n",
    "map_trt"
   ]
  },
  {
   "cell_type": "markdown",
   "metadata": {},
   "source": [
    "### Result and Conclusion"
   ]
  },
  {
   "cell_type": "markdown",
   "metadata": {},
   "source": [
    "From taking the mean of most popular sushi-related restaurants in Toronto, we finally get our result of potential best place for a new sushi restaurant -- On University Avenue to the south of University/Armoury."
   ]
  },
  {
   "cell_type": "markdown",
   "metadata": {},
   "source": [
    "### Discussion"
   ]
  },
  {
   "cell_type": "markdown",
   "metadata": {},
   "source": [
    "The sushi restaurant is among one of the most popular venues in the city of Toronto. With 1 3rd most common, 2 4th most common and 1 5th most common ranks in the neighborhoods of Toronto, we can see that opening a sushi restaurant can be a promising business to start.\n",
    "\n",
    "Although there can be more factors affecting the choice of location in the real life such as rent, prices and traffic conditions, we are able to obtain the result of a potential best place by assessing the location and popularity of other popular sushi-related restaurants.\n",
    "\n",
    "Finally, we have our best place - University Avenue to the south of University/Armoury. The address is in the neighborhood where sushi is loved and it also has a fair distance from all the other popular sushi-related restaurants."
   ]
  },
  {
   "cell_type": "code",
   "execution_count": null,
   "metadata": {},
   "outputs": [],
   "source": []
  }
 ],
 "metadata": {
  "kernelspec": {
   "display_name": "Python",
   "language": "python",
   "name": "conda-env-python-py"
  },
  "language_info": {
   "codemirror_mode": {
    "name": "ipython",
    "version": 3
   },
   "file_extension": ".py",
   "mimetype": "text/x-python",
   "name": "python",
   "nbconvert_exporter": "python",
   "pygments_lexer": "ipython3",
   "version": "3.6.7"
  }
 },
 "nbformat": 4,
 "nbformat_minor": 4
}
